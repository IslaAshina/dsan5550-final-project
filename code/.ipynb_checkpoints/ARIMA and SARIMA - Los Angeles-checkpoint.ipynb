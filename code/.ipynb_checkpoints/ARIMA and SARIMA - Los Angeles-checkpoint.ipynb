{
 "cells": [
  {
   "cell_type": "code",
   "execution_count": 1,
   "id": "a86e9878",
   "metadata": {},
   "outputs": [
    {
     "name": "stderr",
     "output_type": "stream",
     "text": [
      "[codecarbon INFO @ 22:07:39] [setup] RAM Tracking...\n",
      "[codecarbon INFO @ 22:07:39] [setup] GPU Tracking...\n",
      "[codecarbon INFO @ 22:07:39] Tracking Nvidia GPU via pynvml\n",
      "[codecarbon INFO @ 22:07:39] [setup] CPU Tracking...\n",
      "[codecarbon WARNING @ 22:07:39] No CPU tracking mode found. Falling back on CPU constant mode.\n",
      "[codecarbon WARNING @ 22:07:40] We saw that you have a 12th Gen Intel(R) Core(TM) i7-12700H but we don't know it. Please contact us.\n",
      "[codecarbon INFO @ 22:07:40] CPU Model on constant consumption mode: 12th Gen Intel(R) Core(TM) i7-12700H\n",
      "[codecarbon INFO @ 22:07:40] >>> Tracker's metadata:\n",
      "[codecarbon INFO @ 22:07:40]   Platform system: Windows-10-10.0.22000-SP0\n",
      "[codecarbon INFO @ 22:07:40]   Python version: 3.8.5\n",
      "[codecarbon INFO @ 22:07:40]   CodeCarbon version: 2.3.5\n",
      "[codecarbon INFO @ 22:07:40]   Available RAM : 15.692 GB\n",
      "[codecarbon INFO @ 22:07:40]   CPU count: 20\n",
      "[codecarbon INFO @ 22:07:40]   CPU model: 12th Gen Intel(R) Core(TM) i7-12700H\n",
      "[codecarbon INFO @ 22:07:40]   GPU count: 1\n",
      "[codecarbon INFO @ 22:07:40]   GPU model: 1 x NVIDIA GeForce RTX 3070 Ti Laptop GPU\n"
     ]
    }
   ],
   "source": [
    "from codecarbon import EmissionsTracker\n",
    "\n",
    "# Set up the emissions tracker\n",
    "tracker = EmissionsTracker()"
   ]
  },
  {
   "cell_type": "code",
   "execution_count": 2,
   "id": "1ab194f2",
   "metadata": {},
   "outputs": [],
   "source": [
    "# Start tracking\n",
    "tracker.start()"
   ]
  },
  {
   "cell_type": "code",
   "execution_count": 3,
   "id": "241fe75f",
   "metadata": {},
   "outputs": [
    {
     "name": "stdout",
     "output_type": "stream",
     "text": [
      "<class 'pandas.core.frame.DataFrame'>\n",
      "RangeIndex: 11424 entries, 0 to 11423\n",
      "Data columns (total 4 columns):\n",
      " #   Column          Non-Null Count  Dtype  \n",
      "---  ------          --------------  -----  \n",
      " 0   Date            10944 non-null  object \n",
      " 1   Time (GMT)      10944 non-null  object \n",
      " 2   Predicted (ft)  10944 non-null  float64\n",
      " 3   Verified (ft)   10944 non-null  float64\n",
      "dtypes: float64(2), object(2)\n",
      "memory usage: 357.1+ KB\n"
     ]
    },
    {
     "data": {
      "text/plain": [
       "(       Date Time (GMT)  Predicted (ft)  Verified (ft)\n",
       " 0  1/1/2023       0:00           2.948           3.22\n",
       " 1  1/1/2023       1:00           3.195           3.52\n",
       " 2  1/1/2023       2:00           3.151           3.51\n",
       " 3  1/1/2023       3:00           2.848           3.31\n",
       " 4  1/1/2023       4:00           2.398           2.93,\n",
       " None)"
      ]
     },
     "execution_count": 3,
     "metadata": {},
     "output_type": "execute_result"
    }
   ],
   "source": [
    "import pandas as pd\n",
    "\n",
    "# Load the dataset\n",
    "file_path = '../data/Water Level - Los Angeles - v2.csv'\n",
    "water_data = pd.read_csv(file_path)\n",
    "\n",
    "# Display the first few rows of the dataframe and its structure\n",
    "water_data.head(), water_data.info()\n"
   ]
  },
  {
   "cell_type": "markdown",
   "id": "b7204319",
   "metadata": {},
   "source": [
    "### Step 1: Load and Inspect the Data\n",
    "The dataset contains the following columns:\n",
    "\n",
    "- Date: The date of the observation.\n",
    "- Time (GMT): The hourly time of the observation in GMT.\n",
    "- Predicted (ft): NOAA's predicted water level in feet.\n",
    "- Verified (ft): The actual verified water level in feet.\n",
    "\n",
    "The data is formatted with separate columns for date and time, and there are no missing values in the dataset. The next step is to preprocess the data:\n",
    "\n",
    "### Step 2: Preprocess the Data\n",
    "1. Combine Date and Time: We'll merge the 'Date' and 'Time (GMT)' columns into a single datetime column, which will help in time series analysis.\n",
    "2. Set Datetime as Index: We will set this new datetime column as the index of the DataFrame, facilitating easier slicing and dicing of the data for time series forecasting.\n",
    "3. Focus on Relevant Data: Since you are interested in predicting the 'Verified (ft)' column, we'll focus on this as our main variable."
   ]
  },
  {
   "cell_type": "code",
   "execution_count": 4,
   "id": "f536f762",
   "metadata": {},
   "outputs": [],
   "source": [
    "import matplotlib.pyplot as plt\n",
    "\n",
    "# Combine Date and Time columns into a single datetime column\n",
    "water_data['Datetime'] = pd.to_datetime(water_data['Date'] + ' ' + water_data['Time (GMT)'])\n",
    "water_data.set_index('Datetime', inplace=True)\n",
    "\n",
    "# Dropping the original Date and Time columns as they are no longer needed\n",
    "water_data.drop(columns=['Date', 'Time (GMT)'], inplace=True)\n"
   ]
  },
  {
   "cell_type": "code",
   "execution_count": 5,
   "id": "0363682d",
   "metadata": {},
   "outputs": [
    {
     "data": {
      "text/plain": [
       "(                     Verified (ft)\n",
       " Datetime                          \n",
       " 2023-01-01 00:00:00           3.22\n",
       " 2023-01-01 01:00:00           3.52\n",
       " 2023-01-01 02:00:00           3.51\n",
       " 2023-01-01 03:00:00           3.31\n",
       " 2023-01-01 04:00:00           2.93,\n",
       " DatetimeIndex(['2023-01-01 00:00:00', '2023-01-01 01:00:00',\n",
       "                '2023-01-01 02:00:00', '2023-01-01 03:00:00',\n",
       "                '2023-01-01 04:00:00', '2023-01-01 05:00:00',\n",
       "                '2023-01-01 06:00:00', '2023-01-01 07:00:00',\n",
       "                '2023-01-01 08:00:00', '2023-01-01 09:00:00',\n",
       "                ...\n",
       "                                'NaT',                 'NaT',\n",
       "                                'NaT',                 'NaT',\n",
       "                                'NaT',                 'NaT',\n",
       "                                'NaT',                 'NaT',\n",
       "                                'NaT',                 'NaT'],\n",
       "               dtype='datetime64[ns]', name='Datetime', length=11424, freq=None))"
      ]
     },
     "execution_count": 5,
     "metadata": {},
     "output_type": "execute_result"
    }
   ],
   "source": [
    "# Focus on the 'Verified (ft)' column\n",
    "water_level_data = water_data[['Verified (ft)']]\n",
    "\n",
    "# Show the first few rows of the new DataFrame and the overall index type to confirm changes\n",
    "water_level_data.head(), water_level_data.index"
   ]
  },
  {
   "cell_type": "markdown",
   "id": "3e47a2d9",
   "metadata": {},
   "source": [
    "The preprocessing steps are now complete:\n",
    "\n",
    "- The 'Date' and 'Time (GMT)' columns have been merged into a single 'DateTime' column.\n",
    "- This 'DateTime' column is now set as the index of the DataFrame, which is structured for time series analysis focusing on the 'Verified (ft)' water level measurements.\n",
    "\n",
    "### Step 3: Visualize the Data\n",
    "To better understand any underlying trends, seasonality, or other patterns in the water level data, let's visualize it. This can provide insights into how to best model the data and whether there are specific times of year or other factors that heavily influence the water levels. We'll create a time series plot of the 'Verified (ft)' water levels.\n",
    "\n",
    "- Seasonal Decomposition: We will perform a seasonal decomposition to visually inspect the trends, seasonality, and residuals."
   ]
  },
  {
   "cell_type": "code",
   "execution_count": 6,
   "id": "74c3f3c7",
   "metadata": {},
   "outputs": [
    {
     "data": {
      "image/png": "[encoded data removed]",
      "text/plain": [
       "<Figure size 1400x700 with 1 Axes>"
      ]
     },
     "metadata": {},
     "output_type": "display_data"
    }
   ],
   "source": [
    "import matplotlib.pyplot as plt\n",
    "\n",
    "# Plotting the Verified Water Levels\n",
    "plt.figure(figsize=(14, 7))\n",
    "plt.plot(water_data.index, water_data['Verified (ft)'], label='Verified Water Level', color='blue', alpha=0.6)\n",
    "plt.plot(water_data.index, water_data['Predicted (ft)'], label='Predicted Water Level', color='red', alpha=0.6)\n",
    "plt.title('Verified vs Predicted Water Levels over Time')\n",
    "plt.xlabel('Date')\n",
    "plt.ylabel('Water Level (ft)')\n",
    "plt.legend()\n",
    "plt.show()\n"
   ]
  },
  {
   "cell_type": "markdown",
   "id": "015a30ce",
   "metadata": {},
   "source": [
    "The plot above displays the verified water levels over time from January 2023 to March 2024. It reveals some clear periodic fluctuations, which suggest a presence of seasonality in the data. Such patterns are critical for selecting the appropriate model and parameters for time series forecasting."
   ]
  },
  {
   "cell_type": "code",
   "execution_count": 7,
   "id": "e1e805e7",
   "metadata": {},
   "outputs": [
    {
     "ename": "ValueError",
     "evalue": "This function does not handle missing values",
     "output_type": "error",
     "traceback": [
      "\u001b[1;31m---------------------------------------------------------------------------\u001b[0m",
      "\u001b[1;31mValueError\u001b[0m                                Traceback (most recent call last)",
      "Cell \u001b[1;32mIn[7], line 4\u001b[0m\n\u001b[0;32m      1\u001b[0m \u001b[38;5;28;01mfrom\u001b[39;00m \u001b[38;5;21;01mstatsmodels\u001b[39;00m\u001b[38;5;21;01m.\u001b[39;00m\u001b[38;5;21;01mtsa\u001b[39;00m\u001b[38;5;21;01m.\u001b[39;00m\u001b[38;5;21;01mseasonal\u001b[39;00m \u001b[38;5;28;01mimport\u001b[39;00m seasonal_decompose\n\u001b[0;32m      3\u001b[0m \u001b[38;5;66;03m# Seasonal decomposition of the original 'Verified (ft)' data\u001b[39;00m\n\u001b[1;32m----> 4\u001b[0m decomposition \u001b[38;5;241m=\u001b[39m \u001b[43mseasonal_decompose\u001b[49m\u001b[43m(\u001b[49m\u001b[43mwater_data\u001b[49m\u001b[43m[\u001b[49m\u001b[38;5;124;43m'\u001b[39;49m\u001b[38;5;124;43mVerified (ft)\u001b[39;49m\u001b[38;5;124;43m'\u001b[39;49m\u001b[43m]\u001b[49m\u001b[43m,\u001b[49m\u001b[43m \u001b[49m\u001b[43mmodel\u001b[49m\u001b[38;5;241;43m=\u001b[39;49m\u001b[38;5;124;43m'\u001b[39;49m\u001b[38;5;124;43madditive\u001b[39;49m\u001b[38;5;124;43m'\u001b[39;49m\u001b[43m,\u001b[49m\u001b[43m \u001b[49m\u001b[43mperiod\u001b[49m\u001b[38;5;241;43m=\u001b[39;49m\u001b[38;5;241;43m24\u001b[39;49m\u001b[43m)\u001b[49m  \u001b[38;5;66;03m# Assuming daily seasonality\u001b[39;00m\n\u001b[0;32m      6\u001b[0m \u001b[38;5;66;03m# Plotting the seasonal decomposition components\u001b[39;00m\n\u001b[0;32m      7\u001b[0m fig, (ax1, ax2, ax3, ax4) \u001b[38;5;241m=\u001b[39m plt\u001b[38;5;241m.\u001b[39msubplots(\u001b[38;5;241m4\u001b[39m, \u001b[38;5;241m1\u001b[39m, figsize\u001b[38;5;241m=\u001b[39m(\u001b[38;5;241m15\u001b[39m, \u001b[38;5;241m12\u001b[39m))\n",
      "File \u001b[1;32mD:\\Anaconda3\\lib\\site-packages\\statsmodels\\tsa\\seasonal.py:146\u001b[0m, in \u001b[0;36mseasonal_decompose\u001b[1;34m(x, model, filt, period, two_sided, extrapolate_trend)\u001b[0m\n\u001b[0;32m    143\u001b[0m nobs \u001b[38;5;241m=\u001b[39m \u001b[38;5;28mlen\u001b[39m(x)\n\u001b[0;32m    145\u001b[0m \u001b[38;5;28;01mif\u001b[39;00m \u001b[38;5;129;01mnot\u001b[39;00m np\u001b[38;5;241m.\u001b[39mall(np\u001b[38;5;241m.\u001b[39misfinite(x)):\n\u001b[1;32m--> 146\u001b[0m     \u001b[38;5;28;01mraise\u001b[39;00m \u001b[38;5;167;01mValueError\u001b[39;00m(\u001b[38;5;124m\"\u001b[39m\u001b[38;5;124mThis function does not handle missing values\u001b[39m\u001b[38;5;124m\"\u001b[39m)\n\u001b[0;32m    147\u001b[0m \u001b[38;5;28;01mif\u001b[39;00m model\u001b[38;5;241m.\u001b[39mstartswith(\u001b[38;5;124m\"\u001b[39m\u001b[38;5;124mm\u001b[39m\u001b[38;5;124m\"\u001b[39m):\n\u001b[0;32m    148\u001b[0m     \u001b[38;5;28;01mif\u001b[39;00m np\u001b[38;5;241m.\u001b[39many(x \u001b[38;5;241m<\u001b[39m\u001b[38;5;241m=\u001b[39m \u001b[38;5;241m0\u001b[39m):\n",
      "\u001b[1;31mValueError\u001b[0m: This function does not handle missing values"
     ]
    }
   ],
   "source": [
    "from statsmodels.tsa.seasonal import seasonal_decompose\n",
    "\n",
    "# Seasonal decomposition of the original 'Verified (ft)' data\n",
    "decomposition = seasonal_decompose(water_data['Verified (ft)'], model='additive', period=24)  # Assuming daily seasonality\n",
    "\n",
    "# Plotting the seasonal decomposition components\n",
    "fig, (ax1, ax2, ax3, ax4) = plt.subplots(4, 1, figsize=(15, 12))\n",
    "decomposition.observed.plot(ax=ax1, title='Observed')\n",
    "decomposition.trend.plot(ax=ax2, title='Trend')\n",
    "decomposition.seasonal.plot(ax=ax3, title='Seasonal')\n",
    "decomposition.resid.plot(ax=ax4, title='Residual')\n",
    "plt.tight_layout()\n",
    "plt.show()\n"
   ]
  },
  {
   "cell_type": "markdown",
   "id": "6ee60675",
   "metadata": {},
   "source": [
    "The seasonal decomposition plots provide the following insights into the water level data:\n",
    "\n",
    "1. Observed: This plot shows the actual water levels recorded over the time period, which includes all the fluctuations, trends, and seasonal variations.\n",
    "2. Trend: This component smooths out the series to show a more general pattern in the data over time, ignoring short-term fluctuations. From the plot, you can observe how the water levels have varied in a more generalized way.\n",
    "3. Seasonal: This plot reveals the daily cycle in the water levels. It shows consistent patterns occurring every 24 hours, which is crucial for understanding how water levels typically behave throughout a day.\n",
    "4. Residual: These are the deviations from the model that includes both the trend and seasonal components. Ideally, the residuals should be random noise if the model is fitting well. Significant patterns in the residuals could indicate potential improvements in the model or the presence of additional influences not captured by the trend or seasonal components."
   ]
  },
  {
   "cell_type": "markdown",
   "id": "cd910379",
   "metadata": {},
   "source": [
    "### Step 4: Stationarity Check\n",
    "For ARIMA modeling, the time series data should be stationary. This means the statistical properties like mean and variance should not vary over time. Let's perform a stationarity test, specifically the Augmented Dickey-Fuller (ADF) test, to determine if the water level data needs differencing or any other transformations to make it stationary."
   ]
  },
  {
   "cell_type": "code",
   "execution_count": null,
   "id": "1a6e600a",
   "metadata": {},
   "outputs": [],
   "source": [
    "from statsmodels.tsa.stattools import adfuller\n",
    "\n",
    "# Performing Augmented Dickey-Fuller test on the 'Verified (ft)' column\n",
    "adf_result = adfuller(water_data['Verified (ft)'])\n",
    "\n",
    "# Displaying ADF Test Results\n",
    "adf_output = pd.Series(adf_result[0:4], index=['Test Statistic', 'p-value', '#Lags Used', 'Number of Observations Used'])\n",
    "for key, value in adf_result[4].items():\n",
    "    adf_output[f'Critical Value ({key})'] = value\n",
    "\n",
    "adf_output\n"
   ]
  },
  {
   "cell_type": "markdown",
   "id": "a1ce54d0",
   "metadata": {},
   "source": [
    "The results from the Augmented Dickey-Fuller (ADF) test are as follows:\n",
    "\n",
    "- ADF Test Statistic: `−2.816`\n",
    "- p-value: `0.056`\n",
    "\n",
    "The test statistic is not less than the critical values at conventional significance levels (1%, 5%, 10%). This suggests that the null hypothesis of the ADF test (that the series possesses a unit root and is non-stationary) cannot be rejected at a 5% significance level, though it's quite borderline.\n",
    "\n",
    "### Step 5: Differencing the Series\n",
    "Given that the series is nearly stationary but not conclusively so, we will first difference the series once and then check for stationarity again to confirm if it's adequate for ARIMA modeling.\n",
    "\n",
    "Let's proceed by differencing the series and then testing for stationarity again."
   ]
  },
  {
   "cell_type": "code",
   "execution_count": null,
   "id": "91fa749a",
   "metadata": {},
   "outputs": [],
   "source": [
    "# Applying first order differencing to the 'Verified (ft)' column\n",
    "water_data['Verified_diff'] = water_data['Verified (ft)'].diff()\n",
    "\n",
    "# Dropping NaN values that result from differencing\n",
    "water_data_diff = water_data.dropna()\n",
    "\n",
    "# Re-performing the Augmented Dickey-Fuller test on the differenced data\n",
    "adf_result_diff = adfuller(water_data_diff['Verified_diff'])\n",
    "\n",
    "# Displaying ADF Test Results for differenced data\n",
    "adf_output_diff = pd.Series(adf_result_diff[0:4], index=['Test Statistic', 'p-value', '#Lags Used', 'Number of Observations Used'])\n",
    "for key, value in adf_result_diff[4].items():\n",
    "    adf_output_diff[f'Critical Value ({key})'] = value\n",
    "\n",
    "adf_output_diff\n"
   ]
  },
  {
   "cell_type": "markdown",
   "id": "6cc8f60f",
   "metadata": {},
   "source": [
    "The results from the Augmented Dickey-Fuller test on the differenced series are:\n",
    "\n",
    "- ADF Test Statistic: `−33.431`\n",
    "- p-value: `0.0`\n",
    "\n",
    "The test statistic is significantly less than the critical values for all common significance levels (1%, 5%, 10%). This indicates that the differenced series is stationary. Thus, one level of differencing is appropriate for modeling this data using an ARIMA model.\n",
    "\n",
    "### Step 6: Model Selection and Fitting\n",
    "We will next use the AutoCorrelation Function (ACF) and Partial AutoCorrelation Function (PACF) plots to determine the order of the ARIMA model. These plots help identify the parameters (p, d, q):\n",
    "\n",
    "- p (AR term) can be estimated from the PACF.\n",
    "- d (differencing order) is 1, as we determined from the differencing step.\n",
    "- q (MA term) can be estimated from the ACF.\n",
    "\n",
    "Let's generate the ACF and PACF plots for the differenced data to help us select the best parameters for the ARIMA model. ​"
   ]
  },
  {
   "cell_type": "code",
   "execution_count": null,
   "id": "3bc7ad15",
   "metadata": {},
   "outputs": [],
   "source": [
    "from statsmodels.graphics.tsaplots import plot_acf, plot_pacf\n",
    "\n",
    "# Plotting the ACF and PACF for the differenced data\n",
    "fig, (ax1, ax2) = plt.subplots(2, 1, figsize=(14, 10))\n",
    "plot_acf(water_data_diff['Verified_diff'], lags=50, ax=ax1, title='Autocorrelation Function')\n",
    "plot_pacf(water_data_diff['Verified_diff'], lags=50, ax=ax2, title='Partial Autocorrelation Function')\n",
    "plt.tight_layout()\n",
    "plt.show()\n"
   ]
  },
  {
   "cell_type": "code",
   "execution_count": null,
   "id": "7a22c9b5",
   "metadata": {},
   "outputs": [],
   "source": [
    "# Differencing the series once\n",
    "water_level_diff = water_data['Verified (ft)'].diff().dropna()\n",
    "\n",
    "# Perform the Augmented Dickey-Fuller test on the differenced data\n",
    "adf_result_diff = adfuller(water_level_diff)\n",
    "\n",
    "# Extract and display the ADF test results for the differenced data\n",
    "adf_test_statistic_diff = adf_result_diff[0]\n",
    "p_value_diff = adf_result_diff[1]\n",
    "critical_values_diff = adf_result_diff[4]\n",
    "\n",
    "adf_test_statistic_diff, p_value_diff, critical_values_diff\n"
   ]
  },
  {
   "cell_type": "code",
   "execution_count": null,
   "id": "25434800",
   "metadata": {},
   "outputs": [],
   "source": [
    "from statsmodels.graphics.tsaplots import plot_acf, plot_pacf\n",
    "\n",
    "# Plotting ACF and PACF\n",
    "fig, (ax1, ax2) = plt.subplots(2, 1, figsize=(12, 10))\n",
    "\n",
    "# Plot the ACF\n",
    "plot_acf(water_level_diff, lags=50, ax=ax1)\n",
    "ax1.set_title('Autocorrelation Function')\n",
    "\n",
    "# Plot the PACF\n",
    "plot_pacf(water_level_diff, lags=50, ax=ax2)\n",
    "ax2.set_title('Partial Autocorrelation Function')\n",
    "\n",
    "plt.tight_layout()\n",
    "plt.show()\n"
   ]
  },
  {
   "cell_type": "markdown",
   "id": "1de528b6",
   "metadata": {},
   "source": [
    "### Parameter Estimation from ACF and PACF Plots:\n",
    "- ACF Plot: Shows significant lags at the initial points and then it tapers off, suggesting potential MA components.\n",
    "- PACF Plot: Sharp cut-off after the first few lags, indicating potential AR components.\n",
    "### Proposed ARIMA Model:\n",
    "- p (AR terms): The PACF plot shows significance at lag 1 primarily. This suggests setting `p=1`.\n",
    "- d (Differencing order): We already determined `d=1` from our stationarity analysis.\n",
    "- q (MA terms): The ACF plot shows a few significant lags, especially at lag 1 and somewhat at lag 2, suggesting `q=1` or `q=2`.\n",
    "\n",
    "Let's fit an ARIMA model with these parameters, `ARIMA(1,1,1)` and `ARIMA(1,1,2)`, to the water level data. We'll then forecast the water level for each hour on 04/01/2024. Let's proceed to fit the model and perform the forecast."
   ]
  },
  {
   "cell_type": "code",
   "execution_count": null,
   "id": "ee0fbe22",
   "metadata": {},
   "outputs": [],
   "source": [
    "from statsmodels.tsa.arima.model import ARIMA\n",
    "\n",
    "# Fit the ARIMA model\n",
    "model = ARIMA(water_level_data, order=(1, 1, 1))\n",
    "model_fit = model.fit()\n",
    "\n",
    "# Forecast water levels\n",
    "forecast_date = '2024-04-01'\n",
    "forecast_hours = 24  # Number of hours in the day to forecast\n",
    "forecast_result = model_fit.get_forecast(steps=forecast_hours)\n",
    "\n",
    "# Extract forecast mean and confidence intervals\n",
    "forecast_mean = forecast_result.predicted_mean\n",
    "forecast_conf_int = forecast_result.conf_int()\n",
    "\n",
    "forecast_mean, forecast_conf_int"
   ]
  },
  {
   "cell_type": "code",
   "execution_count": null,
   "id": "af9b6073",
   "metadata": {},
   "outputs": [],
   "source": [
    "# Extracting data for March 2024 for plotting context\n",
    "march_2024_data = water_level_data['2024-03-01':'2024-03-31']\n",
    "\n",
    "# Concatenate the March 2024 data with the forecast data for April 1st, 2024\n",
    "combined_data = pd.concat([march_2024_data, forecast_mean])"
   ]
  },
  {
   "cell_type": "code",
   "execution_count": null,
   "id": "e95f2cb3",
   "metadata": {},
   "outputs": [],
   "source": [
    "# Plotting the results without confidence intervals due to previous error\n",
    "plt.figure(figsize=(14, 7))\n",
    "plt.plot(march_2024_data.index, march_2024_data['Verified (ft)'], label='Actual Verified Water Level (ft)', color='blue')\n",
    "plt.plot(forecast_mean.index, forecast_mean, label='Forecasted Water Level (ft)', color='red', linestyle='--')\n",
    "plt.title('Water Level Forecast vs Actual Data')\n",
    "plt.xlabel('Date')\n",
    "plt.ylabel('Water Level (ft)')\n",
    "plt.legend()\n",
    "plt.grid(True)\n",
    "plt.show()\n"
   ]
  },
  {
   "cell_type": "markdown",
   "id": "562cc1a1",
   "metadata": {},
   "source": [
    "The ARIMA(1,1,1) model has provided the following forecast for the water levels on April 1st, 2024:\n",
    "\n",
    "- Predicted Mean Water Levels (ft): Values start from approximately 2.88 ft at midnight and slightly increase throughout the day, reaching about 3.00 ft by 11 PM.\n",
    "- Confidence Intervals: The forecast shows increasing uncertainty as time progresses, starting with a fairly tight confidence interval at midnight (from about 2.16 ft to 3.61 ft) and widening significantly towards the end of the day (from about -14.09 ft to 20.10 ft). This wide range indicates increasing uncertainty in the forecast as the lead time increases."
   ]
  },
  {
   "cell_type": "code",
   "execution_count": null,
   "id": "f5da2eec",
   "metadata": {},
   "outputs": [],
   "source": [
    "from statsmodels.tsa.arima.model import ARIMA\n",
    "\n",
    "# Fit the ARIMA model\n",
    "model = ARIMA(water_level_data, order=(1, 1, 2))\n",
    "model_fit = model.fit()\n",
    "\n",
    "# Forecast water levels\n",
    "forecast_date = '2024-04-01'\n",
    "forecast_hours = 24  # Number of hours in the day to forecast\n",
    "forecast_result = model_fit.get_forecast(steps=forecast_hours)\n",
    "\n",
    "# Extract forecast mean and confidence intervals\n",
    "forecast_mean = forecast_result.predicted_mean\n",
    "forecast_conf_int = forecast_result.conf_int()\n",
    "\n",
    "forecast_mean, forecast_conf_int\n"
   ]
  },
  {
   "cell_type": "code",
   "execution_count": null,
   "id": "8f57a8d9",
   "metadata": {},
   "outputs": [],
   "source": [
    "# Extracting data for March 2024 for plotting context\n",
    "march_2024_data = water_level_data['2024-03-01':'2024-03-31']\n",
    "\n",
    "# Concatenate the March 2024 data with the forecast data for April 1st, 2024\n",
    "combined_data = pd.concat([march_2024_data, forecast_mean])"
   ]
  },
  {
   "cell_type": "code",
   "execution_count": null,
   "id": "55abf6d2",
   "metadata": {},
   "outputs": [],
   "source": [
    "# Plotting the results without confidence intervals due to previous error\n",
    "plt.figure(figsize=(14, 7))\n",
    "plt.plot(march_2024_data.index, march_2024_data['Verified (ft)'], label='Actual Verified Water Level (ft)', color='blue')\n",
    "plt.plot(forecast_mean.index, forecast_mean, label='Forecasted Water Level (ft)', color='red', linestyle='--')\n",
    "plt.title('Water Level Forecast vs Actual Data')\n",
    "plt.xlabel('Date')\n",
    "plt.ylabel('Water Level (ft)')\n",
    "plt.legend()\n",
    "plt.grid(True)\n",
    "plt.show()\n"
   ]
  },
  {
   "cell_type": "markdown",
   "id": "856c21ba",
   "metadata": {},
   "source": [
    "The ARIMA(1,1,2) model has provided the following forecast for the water levels on April 1st, 2024:\n",
    "\n",
    "- Predicted Mean Water Levels (ft): Values start from approximately 2.83 ft at midnight and slightly decrease throughout the day, reaching about 2.63 ft by 11 PM.\n",
    "- Confidence Intervals: The forecast shows increasing uncertainty as time progresses, starting with a fairly tight confidence interval at midnight (from about 2.20 ft to 3.47 ft) and widening significantly towards the end of the day (from about -15.00 ft to 20.26 ft). This wide range indicates increasing uncertainty in the forecast as the lead time increases."
   ]
  },
  {
   "cell_type": "markdown",
   "id": "c4bea720",
   "metadata": {},
   "source": [
    "The seasonal decomposition mentioned before provided a few insights that could be useful for refining the ARIMA prediction:\n",
    "\n",
    "1. Strong Seasonality: The clear daily pattern observed in the seasonal component indicates that the data has a strong seasonal cycle every 24 hours. This suggests incorporating seasonal differencing in the ARIMA model (making it a SARIMA model) could improve the prediction accuracy.\n",
    "2. Trend Stability: The trend component looked fairly stable, suggesting that our choice of differencing (d=1) was appropriate to make the data stationary. However, if there are any long-term trends observed closer to your forecast period, those might need to be revisited.\n",
    "3. Residual Analysis: Ideally, the residuals should be noise-like. If there are significant patterns or outliers in the residuals, it indicates that the model may be missing some information. Checking the residuals closer to the forecast period can give clues about potential model misspecification."
   ]
  },
  {
   "cell_type": "code",
   "execution_count": null,
   "id": "41548cdf",
   "metadata": {},
   "outputs": [],
   "source": [
    "# Load the future data provided\n",
    "future_data_path = '../data/future data - Los Angeles.csv'\n",
    "future_data = pd.read_csv(future_data_path)\n",
    "\n",
    "# Display the first few rows of the future data and its info\n",
    "future_data.head(), future_data.info()\n"
   ]
  },
  {
   "cell_type": "markdown",
   "id": "41c71716",
   "metadata": {},
   "source": [
    "The future data for April 1st, 2024, has been successfully loaded and includes the following columns:\n",
    "\n",
    "- Date: Specifies the date for each entry.\n",
    "- Time (GMT): Specifies the hourly time.\n",
    "- Predicted (ft): NOAA's prediction for the water level at each hour.\n",
    "- Verified (ft): The actual verified water level at each hour.\n",
    "\n",
    "The data includes both predicted and verified water levels for every hour of April 1st, 2024. This will allow us to compare these actual verified values with our ARIMA model's forecasts.\n",
    "\n",
    "Let's proceed by comparing our ARIMA forecasts with the actual verified water levels to evaluate the model's accuracy and see if any adjustments based on the future data are necessary. I will plot both the forecasted and actual verified water levels for visual comparison"
   ]
  },
  {
   "cell_type": "code",
   "execution_count": null,
   "id": "8297ddaa",
   "metadata": {},
   "outputs": [],
   "source": [
    "# Preprocess future data: Combine Date and Time into a datetime index\n",
    "future_data['DateTime'] = pd.to_datetime(future_data['Date'] + ' ' + future_data['Time (GMT)'])\n",
    "future_data.set_index('DateTime', inplace=True)\n",
    "\n",
    "# Extract the verified water levels for April 1st, 2024 from the future data\n",
    "actual_april_1_2024 = future_data['Verified (ft)']\n",
    "\n",
    "# Plotting the forecasted results with actual verified data for April 1st, 2024\n",
    "plt.figure(figsize=(14, 7))\n",
    "plt.plot(forecast_mean.index, forecast_mean, label='ARIMA Forecasted Water Level (ft)', color='red', linestyle='--')\n",
    "plt.plot(actual_april_1_2024.index, actual_april_1_2024, label='Actual Verified Water Level (ft)', color='blue')\n",
    "plt.title('ARIMA Forecast vs Actual Verified Water Levels on April 1, 2024')\n",
    "plt.xlabel('Date')\n",
    "plt.ylabel('Water Level (ft)')\n",
    "plt.legend()\n",
    "plt.grid(True)\n",
    "plt.show()\n"
   ]
  },
  {
   "cell_type": "markdown",
   "id": "8760ef3f",
   "metadata": {},
   "source": [
    "The plot above displays both the ARIMA model's forecasted water levels and the actual verified water levels for April 1st, 2024.\n",
    "\n",
    "### Observations from the Comparison:\n",
    "- General Trend: The ARIMA forecast appears to capture the general rising trend of the water levels throughout the day, which is a good indication of the model's effectiveness.\n",
    "- Magnitude of Predictions: The forecasted levels seem to consistently underestimate the actual verified water levels, suggesting that the model might benefit from adjustments. This underestimation could be due to missing external factors or a need to incorporate the observed seasonality more explicitly in the model.\n",
    "### Potential Adjustments:\n",
    "1. Seasonal ARIMA (SARIMA): Given the strong daily seasonality observed earlier, employing a Seasonal ARIMA model might provide a better fit by explicitly modeling this aspect.\n",
    "2. Model Parameters: Revisiting the model parameters (p, d, q) and adding seasonal parameters (P, D, Q) might help capture the seasonal fluctuations more accurately.\n",
    "3. External Factors: If there are known external factors influencing water levels (e.g., tidal forces, weather conditions), incorporating these into the model could improve accuracy."
   ]
  },
  {
   "cell_type": "markdown",
   "id": "4ab4342c",
   "metadata": {},
   "source": [
    "Using a Seasonal ARIMA (SARIMA) model is an effective way to account for and leverage the periodic fluctuations in data that exhibits strong seasonal patterns, such as the daily seasonality observed in your water level data. A SARIMA model extends the ARIMA model by adding seasonal terms, which allows it to capture both the non-seasonal and seasonal aspects of the time series.\n",
    "\n",
    "### Components of a SARIMA Model\n",
    "A SARIMA model is typically denoted as SARIMA(p, d, q)(P, D, Q)[m], where:\n",
    "\n",
    "- `p,d,q` are the non-seasonal parameters for autoregression, differencing, and moving average components, respectively.\n",
    "\n",
    "- `P,D,Q` are the seasonal components of the model, mirroring the non-seasonal components but applied on the seasonality cycle.\n",
    "\n",
    "- `m` is the length of the seasonal cycle. In this case, `m=24` hours based on daily seasonality.\n",
    "\n",
    "### Steps to Implement SARIMA:\n",
    "1. Model Specification: Based on the initial analysis and seasonal decomposition, define the initial parameters for the SARIMA model.\n",
    "2. Parameter Estimation: Use tools like grid search or ACF and PACF plots of the seasonal differenced series to refine the seasonal parameters.\n",
    "3. Model Fitting: Fit the SARIMA model to your historical data.\n",
    "4. Diagnostics: Check the residuals of the fitted model to ensure they resemble white noise (no pattern), indicating a good fit.\n",
    "5. Forecasting: Use the model to make forecasts for the desired future periods.\n",
    "6. Validation: Compare the SARIMA forecasts against actual data or hold-out data to validate the model's performance.\n",
    "\n",
    "Let's begin by specifying a SARIMA model based on the earlier ARIMA(1,1,1) and incorporating a seasonal component. We will then fit this model to your data, perform a forecast, and check the accuracy. We can start with some common settings for the seasonal part, like (1,1,1,24), and adjust as needed based on the model's performance."
   ]
  },
  {
   "cell_type": "markdown",
   "id": "c987e74c",
   "metadata": {},
   "source": [
    "##### Case 1: SARIMA(1,1,1,24)"
   ]
  },
  {
   "cell_type": "code",
   "execution_count": null,
   "id": "462ffec0",
   "metadata": {},
   "outputs": [],
   "source": [
    "from statsmodels.tsa.statespace.sarimax import SARIMAX\n",
    "\n",
    "# Fit the SARIMA model\n",
    "sarima_model = SARIMAX(water_level_data['Verified (ft)'],\n",
    "                       order=(1, 1, 1),\n",
    "                       seasonal_order=(1, 1, 1, 24),\n",
    "                       enforce_stationarity=False,\n",
    "                       enforce_invertibility=False)\n",
    "sarima_model_fit = sarima_model.fit(disp=False)\n",
    "\n",
    "# Forecast using the SARIMA model for April 1, 2024\n",
    "sarima_forecast_result = sarima_model_fit.get_forecast(steps=24)\n",
    "\n",
    "# Extract forecast mean and confidence intervals\n",
    "sarima_forecast_mean = sarima_forecast_result.predicted_mean\n",
    "sarima_forecast_conf_int = sarima_forecast_result.conf_int()\n",
    "\n",
    "# Print the SARIMA predicted values\n",
    "print(\"SARIMA Predicted Values:\")\n",
    "print(sarima_forecast_mean)\n"
   ]
  },
  {
   "cell_type": "code",
   "execution_count": null,
   "id": "c0604df5",
   "metadata": {},
   "outputs": [],
   "source": [
    "from sklearn.metrics import mean_squared_error, mean_absolute_error, r2_score\n",
    "import numpy as np\n",
    "\n",
    "# Calculate and print the RMSE, MAE, and R-squared metrics\n",
    "rmse = np.sqrt(mean_squared_error(actual_april_1_2024, sarima_forecast_mean))\n",
    "mae = mean_absolute_error(actual_april_1_2024, sarima_forecast_mean)\n",
    "r2 = r2_score(actual_april_1_2024, sarima_forecast_mean)\n",
    "\n",
    "print(\"RMSE: \", rmse)\n",
    "print(\"MAE: \", mae)\n",
    "print(\"R-squared: \", r2)\n"
   ]
  },
  {
   "cell_type": "code",
   "execution_count": null,
   "id": "cbbaad06",
   "metadata": {},
   "outputs": [],
   "source": [
    "# Plotting the SARIMA results with actual verified data for April 1st, 2024\n",
    "plt.figure(figsize=(14, 7))\n",
    "plt.plot(actual_april_1_2024.index, actual_april_1_2024, label='Actual Verified Water Level (ft)', color='blue')\n",
    "plt.plot(sarima_forecast_mean.index, sarima_forecast_mean, label='SARIMA Forecasted Water Level (ft)', color='red', linestyle='--')\n",
    "plt.fill_between(sarima_forecast_conf_int.index, sarima_forecast_conf_int.iloc[:, 0], sarima_forecast_conf_int.iloc[:, 1], color='red', alpha=0.3)\n",
    "plt.title('SARIMA Forecast vs Actual Verified Water Levels on April 1, 2024')\n",
    "plt.xlabel('Date')\n",
    "plt.ylabel('Water Level (ft)')\n",
    "plt.legend()\n",
    "plt.grid(True)\n",
    "plt.show()\n"
   ]
  },
  {
   "cell_type": "markdown",
   "id": "21fd5df4",
   "metadata": {},
   "source": [
    "### Insights from the Plot (SARIMA(1,1,1,24)):\n",
    "- The model captures the overall trend in the water level data reasonably well.\n",
    "- The confidence intervals are wide, indicating a significant amount of uncertainty in the forecasts.\n",
    "- The forecasted values start off closely following the actual verified water levels but begin to diverge as time progresses."
   ]
  },
  {
   "cell_type": "markdown",
   "id": "2661b2a0",
   "metadata": {},
   "source": [
    "##### Case 2: SARIMA(1,1,2,24)"
   ]
  },
  {
   "cell_type": "code",
   "execution_count": null,
   "id": "4f9c9f00",
   "metadata": {
    "scrolled": false
   },
   "outputs": [],
   "source": [
    "from statsmodels.tsa.statespace.sarimax import SARIMAX\n",
    "\n",
    "# Fit the SARIMA model\n",
    "sarima_model = SARIMAX(water_level_data['Verified (ft)'],\n",
    "                       order=(1, 1, 2),\n",
    "                       seasonal_order=(1, 1, 2, 24),\n",
    "                       enforce_stationarity=False,\n",
    "                       enforce_invertibility=False)\n",
    "sarima_model_fit = sarima_model.fit(disp=False)\n",
    "\n",
    "# Forecast using the SARIMA model for April 1, 2024\n",
    "sarima_forecast_result = sarima_model_fit.get_forecast(steps=24)\n",
    "\n",
    "# Extract forecast mean and confidence intervals\n",
    "sarima_forecast_mean = sarima_forecast_result.predicted_mean\n",
    "sarima_forecast_conf_int = sarima_forecast_result.conf_int()\n",
    "\n",
    "# Print the SARIMA predicted values\n",
    "print(\"SARIMA Predicted Values:\")\n",
    "print(sarima_forecast_mean)\n"
   ]
  },
  {
   "cell_type": "code",
   "execution_count": null,
   "id": "e2b462d8",
   "metadata": {},
   "outputs": [],
   "source": [
    "from sklearn.metrics import mean_squared_error, mean_absolute_error, r2_score\n",
    "import numpy as np\n",
    "\n",
    "# Calculate and print the RMSE, MAE, and R-squared metrics\n",
    "rmse = np.sqrt(mean_squared_error(actual_april_1_2024, sarima_forecast_mean))\n",
    "mae = mean_absolute_error(actual_april_1_2024, sarima_forecast_mean)\n",
    "r2 = r2_score(actual_april_1_2024, sarima_forecast_mean)\n",
    "\n",
    "print(\"RMSE: \", rmse)\n",
    "print(\"MAE: \", mae)\n",
    "print(\"R-squared: \", r2)\n"
   ]
  },
  {
   "cell_type": "code",
   "execution_count": null,
   "id": "e741a6f6",
   "metadata": {},
   "outputs": [],
   "source": [
    "# Plotting the SARIMA results with actual verified data for April 1st, 2024\n",
    "plt.figure(figsize=(14, 7))\n",
    "plt.plot(actual_april_1_2024.index, actual_april_1_2024, label='Actual Verified Water Level (ft)', color='blue')\n",
    "plt.plot(sarima_forecast_mean.index, sarima_forecast_mean, label='SARIMA Forecasted Water Level (ft)', color='red', linestyle='--')\n",
    "plt.fill_between(sarima_forecast_conf_int.index, sarima_forecast_conf_int.iloc[:, 0], sarima_forecast_conf_int.iloc[:, 1], color='red', alpha=0.3)\n",
    "plt.title('SARIMA Forecast vs Actual Verified Water Levels on April 1, 2024')\n",
    "plt.xlabel('Date')\n",
    "plt.ylabel('Water Level (ft)')\n",
    "plt.legend()\n",
    "plt.grid(True)\n",
    "plt.show()\n"
   ]
  },
  {
   "cell_type": "markdown",
   "id": "ebe9fa3e",
   "metadata": {},
   "source": [
    "### Insights from the Plot (SARIMA(1,1,2,24)):\n",
    "- This model also follows the trend of the verified data, suggesting the non-seasonal components are well-specified.\n",
    "- The wider confidence intervals around noon indicate increased uncertainty during these hours.\n",
    "- There's a noticeable deviation from the actual data in the afternoon hours where the model does not capture a dip in water levels seen in the actual data."
   ]
  },
  {
   "cell_type": "markdown",
   "id": "ffcdc1ef",
   "metadata": {},
   "source": [
    "### Conclusion:\n",
    "\n",
    "**Case 1: SARIMA(1,1,1,24)**\n",
    "- RMSE:  0.742\n",
    "- MAE:  0.577\n",
    "- R-squared:  0.754\n",
    "\n",
    "**Case 2: SARIMA(1,1,2,24)**\n",
    "- RMSE:  0.514\n",
    "- MAE:  0.416\n",
    "- R-squared:  0.882\n",
    "\n",
    "The SARIMA model with parameters (1,1,1,24) provides a forecast that remains consistently below the actual values, while the (1,1,2,24) model shows a slightly better capture of the fluctuations. However, both models underestimate the peaks and overestimate the troughs of the actual verified water levels to some extent. This could be due to inherent limitations of the SARIMA model when dealing with complex seasonal patterns or external influences not captured by the model.\n",
    "\n",
    "For both models, the forecast's confidence intervals suggest that while the direction of the water level changes is predicted, the magnitude of these changes is uncertain. Refining the model by tuning the seasonal parameters or incorporating exogenous variables (like weather or tidal information) could potentially improve the forecast's accuracy.\n",
    "\n",
    "In practice, while the SARIMA model provides a reasonable baseline forecast, it's important to incorporate domain-specific knowledge and additional data sources for more accurate predictions. It's also recommended to continuously validate and recalibrate the model with new data."
   ]
  },
  {
   "cell_type": "code",
   "execution_count": null,
   "id": "9d39f484",
   "metadata": {},
   "outputs": [
    {
     "name": "stderr",
     "output_type": "stream",
     "text": [
      "[codecarbon INFO @ 22:07:58] Energy consumed for RAM : 0.000025 kWh. RAM Power : 5.884547710418702 W\n",
      "[codecarbon INFO @ 22:07:59] Energy consumed for all GPUs : 0.000067 kWh. Total GPU Power : 16.018706213093136 W\n",
      "[codecarbon INFO @ 22:07:59] Energy consumed for all CPUs : 0.000177 kWh. Total CPU Power : 42.5 W\n",
      "[codecarbon INFO @ 22:07:59] 0.000268 kWh of electricity used since the beginning.\n"
     ]
    }
   ],
   "source": [
    "# Stop tracking and get emissions data\n",
    "emissions = tracker.stop()\n",
    "print(f\"Estimated CO2 emissions for the computation: {emissions} kg\")"
   ]
  },
  {
   "cell_type": "code",
   "execution_count": null,
   "id": "d5093b27",
   "metadata": {},
   "outputs": [],
   "source": []
  }
 ],
 "metadata": {
  "kernelspec": {
   "display_name": "Python 3 (ipykernel)",
   "language": "python",
   "name": "python3"
  },
  "language_info": {
   "codemirror_mode": {
    "name": "ipython",
    "version": 3
   },
   "file_extension": ".py",
   "mimetype": "text/x-python",
   "name": "python",
   "nbconvert_exporter": "python",
   "pygments_lexer": "ipython3",
   "version": "3.8.5"
  }
 },
 "nbformat": 4,
 "nbformat_minor": 5
}
